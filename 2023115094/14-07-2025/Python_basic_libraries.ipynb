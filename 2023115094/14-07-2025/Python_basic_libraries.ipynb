{
  "nbformat": 4,
  "nbformat_minor": 0,
  "metadata": {
    "colab": {
      "provenance": []
    },
    "kernelspec": {
      "name": "python3",
      "display_name": "Python 3"
    },
    "language_info": {
      "name": "python"
    }
  },
  "cells": [
    {
      "cell_type": "code",
      "execution_count": null,
      "metadata": {
        "colab": {
          "base_uri": "https://localhost:8080/"
        },
        "id": "b5Hqt5VwDgpT",
        "outputId": "9ed0ea2b-fb38-40ef-fffa-db371ffddbe8"
      },
      "outputs": [
        {
          "output_type": "stream",
          "name": "stdout",
          "text": [
            " math functions\n",
            "floor(2.6): 2\n",
            "ceil(1.1): 2\n",
            "sqrt(25): 5.0\n",
            "isqrt(18): 4\n",
            "gcd(12,16): 4\n"
          ]
        }
      ],
      "source": [
        "import math\n",
        "import statistics\n",
        "import numpy as np\n",
        "import scipy\n",
        "from scipy import linalg\n",
        "print(\" math functions\")\n",
        "print(\"floor(2.6):\", math.floor(2.6))\n",
        "print(\"ceil(1.1):\", math.ceil(1.1))\n",
        "print(\"sqrt(25):\", math.sqrt(25))\n",
        "print(\"isqrt(18):\", math.isqrt(18))\n",
        "print(\"gcd(12,16):\", math.gcd(12, 16))\n",
        "\n"
      ]
    },
    {
      "cell_type": "code",
      "source": [
        "print(\"\\nnumpy array attributes and methods\")\n",
        "arr = np.array([[1, 2],[3, 4]])\n",
        "print(\"ndim:\", arr.ndim)\n",
        "print(\"shape:\", arr.shape)\n",
        "print(\"size:\", arr.size)\n",
        "print(\"sum:\", np.sum(arr))\n",
        "print(\"mean:\", np.mean(arr))\n",
        "print(\"sorted:\", np.sort(arr, axis=None))\n",
        "print(\"sin values:\", np.sin(arr))\n",
        "\n"
      ],
      "metadata": {
        "colab": {
          "base_uri": "https://localhost:8080/"
        },
        "id": "DaLv79Q2GQbe",
        "outputId": "41ee5a5a-46c0-41d6-e45a-07384b569031"
      },
      "execution_count": null,
      "outputs": [
        {
          "output_type": "stream",
          "name": "stdout",
          "text": [
            "\n",
            "numpy array attributes and methods\n",
            "ndim: 2\n",
            "shape: (2, 2)\n",
            "size: 4\n",
            "sum: 10\n",
            "mean: 2.5\n",
            "sorted: [1 2 3 4]\n",
            "sin values: [[ 0.84147098  0.90929743]\n",
            " [ 0.14112001 -0.7568025 ]]\n"
          ]
        }
      ]
    },
    {
      "cell_type": "code",
      "source": [
        "print(\"\\nDeterminant and Eigenvalues,eigenvectors\")\n",
        "matrix = np.array([[1, 2],[3, 4]])\n",
        "print(\"Determinant\", np.linalg.det(matrix))\n",
        "eigenvalues, eigenvectors = np.linalg.eig(matrix)\n",
        "print(\"Eigenvalues:\", eigenvalues)\n",
        "print(\"Eigenvectors:\\n\", eigenvectors)\n"
      ],
      "metadata": {
        "colab": {
          "base_uri": "https://localhost:8080/"
        },
        "id": "es8eaYSvGUc5",
        "outputId": "0926c9bc-e952-4514-cdf2-d74e342916bf"
      },
      "execution_count": null,
      "outputs": [
        {
          "output_type": "stream",
          "name": "stdout",
          "text": [
            "\n",
            "Determinant and Eigenvalues,eigenvectors\n",
            "Determinant -2.0000000000000004\n",
            "Eigenvalues: [-0.37228132  5.37228132]\n",
            "Eigenvectors:\n",
            " [[-0.82456484 -0.41597356]\n",
            " [ 0.56576746 -0.90937671]]\n"
          ]
        }
      ]
    },
    {
      "cell_type": "code",
      "source": [
        "\n",
        "print(\"\\n1D list into 2D and 3D\")\n",
        "lst = [1, 2, 3, 4, 5, 6, 7, 8]\n",
        "arr_1d = np.array(lst)\n",
        "print(\"1D:\", arr_1d)\n",
        "print(\"2D:\\n\", arr_1d.reshape(2, 4))\n",
        "print(\"3D:\\n\", arr_1d.reshape(2, 2, 2))\n",
        "\n"
      ],
      "metadata": {
        "colab": {
          "base_uri": "https://localhost:8080/"
        },
        "id": "DZZE3mjjGbQQ",
        "outputId": "ce7571bb-9fed-4d1a-cfe5-33ffdd6f9e8e"
      },
      "execution_count": null,
      "outputs": [
        {
          "output_type": "stream",
          "name": "stdout",
          "text": [
            "\n",
            "1D list into 2D and 3D\n",
            "1D: [1 2 3 4 5 6 7 8]\n",
            "2D:\n",
            " [[1 2 3 4]\n",
            " [5 6 7 8]]\n",
            "3D:\n",
            " [[[1 2]\n",
            "  [3 4]]\n",
            "\n",
            " [[5 6]\n",
            "  [7 8]]]\n"
          ]
        }
      ]
    },
    {
      "cell_type": "code",
      "source": [
        "print(\"\\nGenerate matrices\")\n",
        "print(\"Zeros:\\n\", np.zeros((3,3)))\n",
        "print(\"Ones:\\n\", np.ones((3, 3)))\n",
        "print(\"Identity:\\n\", np.eye(3))\n",
        "print(\"Random:\\n\", np.random.rand(3, 3))\n",
        "print(\"Arange:\\n\", np.arange(5, 10, 2))\n",
        "\n"
      ],
      "metadata": {
        "colab": {
          "base_uri": "https://localhost:8080/"
        },
        "id": "3F43ZQJ2GfvH",
        "outputId": "49f5ded2-6ed9-412a-bb4b-c5060583b132"
      },
      "execution_count": null,
      "outputs": [
        {
          "output_type": "stream",
          "name": "stdout",
          "text": [
            "\n",
            "Generate matrices\n",
            "Zeros:\n",
            " [[0. 0. 0.]\n",
            " [0. 0. 0.]\n",
            " [0. 0. 0.]]\n",
            "Ones:\n",
            " [[1. 1. 1.]\n",
            " [1. 1. 1.]\n",
            " [1. 1. 1.]]\n",
            "Identity:\n",
            " [[1. 0. 0.]\n",
            " [0. 1. 0.]\n",
            " [0. 0. 1.]]\n",
            "Random:\n",
            " [[0.69565401 0.4294156  0.25002446]\n",
            " [0.60203063 0.33519344 0.55912634]\n",
            " [0.20954138 0.34246951 0.94415716]]\n",
            "Arange:\n",
            " [5 7 9]\n"
          ]
        }
      ]
    },
    {
      "cell_type": "code",
      "source": [
        "print(\"\\nDeterminant using scipy\")\n",
        "matrix2 = np.array([[2, 3], [4, 5]])\n",
        "print(\"Determinant):\", linalg.det(matrix2))\n"
      ],
      "metadata": {
        "colab": {
          "base_uri": "https://localhost:8080/"
        },
        "id": "bSTWJ-1rGib8",
        "outputId": "503d81b8-548f-4034-cdf4-72496c2cf524"
      },
      "execution_count": null,
      "outputs": [
        {
          "output_type": "stream",
          "name": "stdout",
          "text": [
            "\n",
            "Determinant using scipy\n",
            "Determinant): -2.000000000000001\n"
          ]
        }
      ]
    },
    {
      "cell_type": "code",
      "source": [
        "\n",
        "print(\"\\nEigenvalues and Eigenvectors using scipy\")\n",
        "matrix3 = np.array([[2, 0], [0, 3]])\n",
        "eigvals, eigvecs = linalg.eig(matrix3)\n",
        "print(\"Eigenvalues:\", eigvals)\n",
        "print(\"Eigenvectors:\\n\", eigvecs)"
      ],
      "metadata": {
        "id": "FsRK0p4_GmD3",
        "outputId": "9815294a-8aa1-4339-dcb7-cd2ea5548c2f",
        "colab": {
          "base_uri": "https://localhost:8080/"
        }
      },
      "execution_count": null,
      "outputs": [
        {
          "output_type": "stream",
          "name": "stdout",
          "text": [
            "\n",
            "Eigenvalues and Eigenvectors using scipy\n",
            "Eigenvalues: [2.+0.j 3.+0.j]\n",
            "Eigenvectors:\n",
            " [[1. 0.]\n",
            " [0. 1.]]\n"
          ]
        }
      ]
    }
  ]
}