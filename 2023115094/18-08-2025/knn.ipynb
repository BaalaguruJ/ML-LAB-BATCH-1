{
  "nbformat": 4,
  "nbformat_minor": 0,
  "metadata": {
    "colab": {
      "provenance": []
    },
    "kernelspec": {
      "name": "python3",
      "display_name": "Python 3"
    },
    "language_info": {
      "name": "python"
    }
  },
  "cells": [
    {
      "cell_type": "code",
      "execution_count": null,
      "metadata": {
        "id": "3-jw84N8D1qP"
      },
      "outputs": [],
      "source": [
        "import numpy as np\n",
        "import pandas as pd\n",
        "from sklearn.datasets import load_iris\n",
        "from sklearn.model_selection import train_test_split\n",
        "from sklearn.neighbors import KNeighborsClassifier\n",
        "from sklearn.metrics import accuracy_score, confusion_matrix, classification_report\n",
        "import mlflow\n",
        "import mlflow.sklearn\n",
        "import random\n",
        "import os\n",
        "\n",
        "\n",
        "SEED = 42\n",
        "np.random.seed(SEED)\n",
        "random.seed(SEED)\n",
        "os.environ['PYTHONHASHSEED'] = str(SEED)\n",
        "\n",
        "iris = load_iris()\n",
        "X, y = iris.data, iris.target\n",
        "X_train, X_test, y_train, y_test = train_test_split(\n",
        "    X, y, test_size=0.2, random_state=SEED\n",
        ")\n",
        "\n",
        "distance_metrics = ['euclidean', 'manhattan', 'chebyshev']\n",
        "k_values = [1, 3, 5, 7, 9]\n",
        "\n",
        "results = []\n",
        "\n",
        "mlflow.set_experiment(\"KNN_Iris_Experiment\")\n",
        "\n",
        "for metric in distance_metrics:\n",
        "    for k in k_values:\n",
        "        with mlflow.start_run(run_name=f\"KNN_k={k}_{metric}\"):\n",
        "\n",
        "            # Train model\n",
        "            knn = KNeighborsClassifier(n_neighbors=k, metric=metric)\n",
        "            knn.fit(X_train, y_train)\n",
        "\n",
        "            # Predict\n",
        "            y_pred = knn.predict(X_test)\n",
        "\n",
        "            # Evaluate\n",
        "            acc = accuracy_score(y_test, y_pred)\n",
        "            cm = confusion_matrix(y_test, y_pred)\n",
        "            report = classification_report(y_test, y_pred, output_dict=True)\n",
        "\n",
        "            # Store results\n",
        "            results.append({\n",
        "                \"K\": k,\n",
        "                \"Metric\": metric,\n",
        "                \"Accuracy\": acc\n",
        "            })\n",
        "            # =========================\n",
        "            # 4. Log with MLflow (MLOps step)\n",
        "            # =========================\n",
        "            mlflow.log_param(\"K\", k)\n",
        "            mlflow.log_param(\"Metric\", metric)\n",
        "            mlflow.log_metric(\"Accuracy\", acc)\n",
        "            mlflow.sklearn.log_model(knn, f\"knn_model_k{k}_{metric}\")\n",
        "\n",
        "            print(f\"[INFO] k={k}, metric={metric}, accuracy={acc:.4f}\")\n",
        "            print(\"Confusion Matrix:\\n\", cm)\n",
        "\n",
        "df_results = pd.DataFrame(results)\n",
        "print(\"\\nSummary of Results:\")\n",
        "print(df_results)\n"
      ]
    }
  ]
}