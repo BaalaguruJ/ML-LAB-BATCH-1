{
  "nbformat": 4,
  "nbformat_minor": 0,
  "metadata": {
    "colab": {
      "provenance": []
    },
    "kernelspec": {
      "name": "python3",
      "display_name": "Python 3"
    },
    "language_info": {
      "name": "python"
    }
  },
  "cells": [
    {
      "cell_type": "code",
      "execution_count": 1,
      "metadata": {
        "colab": {
          "base_uri": "https://localhost:8080/"
        },
        "id": "LDv-2LPvtx2h",
        "outputId": "4ae2302a-97a1-4b8c-e3c9-d300e9dac64d"
      },
      "outputs": [
        {
          "output_type": "stream",
          "name": "stdout",
          "text": [
            "Coefficients: [ 4. -2.]\n",
            "Intercept: 60.00000000000001\n",
            "Predicted Marks: 74.0\n"
          ]
        },
        {
          "output_type": "stream",
          "name": "stderr",
          "text": [
            "/usr/local/lib/python3.12/dist-packages/sklearn/utils/validation.py:2739: UserWarning: X does not have valid feature names, but LinearRegression was fitted with feature names\n",
            "  warnings.warn(\n"
          ]
        }
      ],
      "source": [
        "import numpy as np\n",
        "import pandas as pd\n",
        "from sklearn.linear_model import LinearRegression\n",
        "\n",
        "data = pd.DataFrame({\n",
        "    \"Hours_Study\": [2, 4, 6, 8, 10],\n",
        "    \"Hours_Sleep\": [9, 8, 7, 6, 5],\n",
        "    \"Marks\": [50, 60, 70, 80, 90]\n",
        "})\n",
        "\n",
        "X = data[[\"Hours_Study\", \"Hours_Sleep\"]]\n",
        "y = data[\"Marks\"]\n",
        "\n",
        "model = LinearRegression()\n",
        "model.fit(X, y)\n",
        "\n",
        "print(\"Coefficients:\", model.coef_)\n",
        "print(\"Intercept:\", model.intercept_)\n",
        "\n",
        "new_data = np.array([[7, 7]])\n",
        "print(\"Predicted Marks:\", model.predict(new_data)[0])\n"
      ]
    }
  ]
}